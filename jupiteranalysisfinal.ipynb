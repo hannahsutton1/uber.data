{
 "cells": [
  {
   "cell_type": "markdown",
   "id": "b2963b89-2d7f-4f25-9d4d-9edcde94ad84",
   "metadata": {},
   "source": [
    " Here, we are going to analyze an Uber dataset to identify correlations between different variables. We will use Python with libraries such as pandas, matplotlib, and numpy for data manipulation and visualization.\n"
   ]
  },
  {
   "cell_type": "code",
   "execution_count": null,
   "id": "da7db802-a0a3-4b7e-afd7-1b2ef26ae1e0",
   "metadata": {},
   "outputs": [
    {
     "name": "stdout",
     "output_type": "stream",
     "text": [
      "Requirement already satisfied: pandas in /home/codespace/.local/lib/python3.12/site-packages (2.3.1)\n",
      "Requirement already satisfied: matplotlib in /home/codespace/.local/lib/python3.12/site-packages (3.10.3)\n",
      "Requirement already satisfied: numpy in /home/codespace/.local/lib/python3.12/site-packages (2.3.1)\n",
      "Requirement already satisfied: python-dateutil>=2.8.2 in /home/codespace/.local/lib/python3.12/site-packages (from pandas) (2.9.0.post0)\n",
      "Requirement already satisfied: pytz>=2020.1 in /home/codespace/.local/lib/python3.12/site-packages (from pandas) (2025.2)\n",
      "Requirement already satisfied: tzdata>=2022.7 in /home/codespace/.local/lib/python3.12/site-packages (from pandas) (2025.2)\n",
      "Requirement already satisfied: contourpy>=1.0.1 in /home/codespace/.local/lib/python3.12/site-packages (from matplotlib) (1.3.2)\n",
      "Requirement already satisfied: cycler>=0.10 in /home/codespace/.local/lib/python3.12/site-packages (from matplotlib) (0.12.1)\n",
      "Requirement already satisfied: fonttools>=4.22.0 in /home/codespace/.local/lib/python3.12/site-packages (from matplotlib) (4.58.5)\n",
      "Requirement already satisfied: kiwisolver>=1.3.1 in /home/codespace/.local/lib/python3.12/site-packages (from matplotlib) (1.4.8)\n",
      "Requirement already satisfied: packaging>=20.0 in /home/codespace/.local/lib/python3.12/site-packages (from matplotlib) (25.0)\n",
      "Requirement already satisfied: pillow>=8 in /home/codespace/.local/lib/python3.12/site-packages (from matplotlib) (11.3.0)\n",
      "Requirement already satisfied: pyparsing>=2.3.1 in /home/codespace/.local/lib/python3.12/site-packages (from matplotlib) (3.2.3)\n",
      "Requirement already satisfied: six>=1.5 in /home/codespace/.local/lib/python3.12/site-packages (from python-dateutil>=2.8.2->pandas) (1.17.0)\n",
      "\n",
      "\u001b[1m[\u001b[0m\u001b[34;49mnotice\u001b[0m\u001b[1;39;49m]\u001b[0m\u001b[39;49m A new release of pip is available: \u001b[0m\u001b[31;49m25.1.1\u001b[0m\u001b[39;49m -> \u001b[0m\u001b[32;49m25.2\u001b[0m\n",
      "\u001b[1m[\u001b[0m\u001b[34;49mnotice\u001b[0m\u001b[1;39;49m]\u001b[0m\u001b[39;49m To update, run: \u001b[0m\u001b[32;49mpip install --upgrade pip\u001b[0m\n",
      "Note: you may need to restart the kernel to use updated packages.\n"
     ]
    }
   ],
   "source": [
    "#Install libraries\n",
    "%pip install pandas matplotlib numpy"
   ]
  },
  {
   "cell_type": "code",
   "execution_count": null,
   "id": "c7e60750-58a1-4fb8-a389-1fddcd65c41c",
   "metadata": {},
   "outputs": [],
   "source": [
    "# Import libraries\n",
    "import pandas as pd\n",
    "import numpy as np\n",
    "import matplotlib.pyplot as plt"
   ]
  },
  {
   "cell_type": "code",
   "execution_count": null,
   "id": "1b2fc78b-b93b-49dc-aae3-1edda956783e",
   "metadata": {},
   "outputs": [],
   "source": [
    "# Import cleaned data files\n",
    "import os"
   ]
  },
  {
   "cell_type": "code",
   "execution_count": null,
   "id": "e00a5ea2-0855-4ff0-9c2d-e0f002a97384",
   "metadata": {},
   "outputs": [],
   "source": [
    "# Create data frame\n",
    "df = pd.read_csv('cleaned_uber_data.csv', index_col=0)\n",
    "print(df)\n",
    "print(df.info())\n",
    "print(\"Available columns:\", df.columns.tolist())"
   ]
  },
  {
   "cell_type": "markdown",
   "id": "3311a4c7-20d8-4e74-89e8-f89f6f236882",
   "metadata": {},
   "source": [
    "  Test correlation between driver ratings and booking value:\n"
   ]
  },
  {
   "cell_type": "code",
   "execution_count": null,
   "id": "5c8fd17d-8226-4af3-8af9-a34bab403f9c",
   "metadata": {},
   "outputs": [],
   "source": [
    "correlation = df[df.columns[df.columns.str.lower().str.replace(' ', '_') == 'booking_value'][0]].corr(\n",
    "\tdf[df.columns[df.columns.str.lower().str.replace(' ', '_') == 'driver_ratings'][0]]\n",
    ")\n",
    "\n",
    "print(f\"Correlation between Driver Ratings and Booking Value: {correlation}\")\n",
    "\n",
    "#The Pearson correlation between driver ratings and booking value was -0.0002, close to 0, indicating no meaningful relationship."
   ]
  },
  {
   "cell_type": "code",
   "execution_count": null,
   "id": "37b3bc9f-b757-4211-9687-6c205e59b320",
   "metadata": {},
   "outputs": [],
   "source": [
    "# Scatter plot between driver ratings and booking value to test again if correlation exists between the two\n",
    "\n",
    "# Use the exact column names as printed above\n",
    "plt.scatter(\n",
    "    df[df.columns[df.columns.str.lower().str.replace(' ', '_') == 'driver_ratings'][0]],\n",
    "    df[df.columns[df.columns.str.lower().str.replace(' ', '_') == 'booking_value'][0]],\n",
    "    alpha=0.5\n",
    ")\n",
    "plt.title('Driver Ratings vs Booking Value')\n",
    "plt.xlabel('Driver Ratings')\n",
    "plt.ylabel('Booking Value')\n",
    "plt.grid(True)\n",
    "plt.show()\n",
    "#The scatter plot shows no clear pattern, supporting the conclusion of no significant correlation between driver ratings and booking value. "
   ]
  },
  {
   "cell_type": "markdown",
   "id": "feec33d0-a807-4cf4-b081-efeddc86f157",
   "metadata": {},
   "source": [
    " Let's see the overall correlations in the dataset.\n"
   ]
  },
  {
   "cell_type": "code",
   "execution_count": null,
   "id": "1fbde751-7b4a-4a42-a564-b2dc4aea9dbd",
   "metadata": {},
   "outputs": [],
   "source": [
    "# Find the pearson correlations matrix for numeric columns only\n",
    "corr = df.select_dtypes(include=[np.number]).corr(method='pearson')\n",
    "corr"
   ]
  },
  {
   "cell_type": "markdown",
   "id": "64c04bed-6bca-49f5-b0fa-aa74b5e5b0fc",
   "metadata": {},
   "source": [
    " Since the dataset does not contain any strong correlations (all values are close to 0), we can conclude that there are no significant linear relationships between the numeric variables in this Uber dataset. There is no need for linear regression without vaues that strongly correlate.\n"
   ]
  },
  {
   "cell_type": "markdown",
   "id": "4ea156a5-99f6-4b16-a467-ac3273086886",
   "metadata": {},
   "source": [
    " **Logistic testing and regression**"
   ]
  },
  {
   "cell_type": "code",
   "execution_count": null,
   "id": "fbecf5a8-2bcb-4922-a4fd-eb54b1337922",
   "metadata": {},
   "outputs": [],
   "source": [
    "#Install sklearn for logistic regression\n",
    "%pip install scikit-learn\n",
    "from sklearn.linear_model import LogisticRegression\n",
    "from sklearn.model_selection import train_test_split\n",
    "from sklearn.metrics import confusion_matrix, classification_report, RocCurveDisplay"
   ]
  },
  {
   "cell_type": "markdown",
   "id": "20b8d2cb-c5d6-45be-baab-e00bf67f20ee",
   "metadata": {},
   "source": [
    " Encode Categorical Features for Logistic Regression\n"
   ]
  },
  {
   "cell_type": "code",
   "execution_count": null,
   "id": "5c10a313-195d-4c4c-9539-407cc579e938",
   "metadata": {},
   "outputs": [],
   "source": [
    "#  Load dataset\n",
    "df = pd.read_csv(\"cleaned_uber_data.csv\")\n",
    "\n",
    "# we want to predict whether drving a sedan leads to high booking value rides (> $508.29 (the avg))\n",
    "df['high_value'] = (df['Booking_Value'] > 508.29).astype(int)\n",
    "# Convert 'Vehicle_Type' to a binary variable: 1 if 'Sedan', else 0\n",
    "df['is_sedan'] = (df['Vehicle_Type'] == 'Sedan').astype(int)    \n",
    "\n",
    "X = df[['is_sedan', 'Booking_Value']]\n",
    "y = df['high_value']"
   ]
  },
  {
   "cell_type": "markdown",
   "id": "2925340c-a8e1-45ef-a892-23d7d4e1bedd",
   "metadata": {},
   "source": [
    " Train/Test Split"
   ]
  },
  {
   "cell_type": "code",
   "execution_count": null,
   "id": "03011ab9-b234-4e0f-ac16-bf529693b933",
   "metadata": {},
   "outputs": [],
   "source": [
    "X_train, X_test, y_train, y_test = train_test_split(X, y, test_size=0.3, random_state=42, stratify=y)"
   ]
  },
  {
   "cell_type": "markdown",
   "id": "2e8bf428-6d7c-40df-ad58-777a966df096",
   "metadata": {},
   "source": [
    " Fit Logistic Regression"
   ]
  },
  {
   "cell_type": "code",
   "execution_count": null,
   "id": "f150c424-fa40-4c56-a217-6c69cb252e05",
   "metadata": {},
   "outputs": [],
   "source": [
    "# Check class distribution in y_train\n",
    "print(\"y_train value counts:\\n\", y_train.value_counts())\n",
    "\n",
    "# If only one class is present, model fitting will fail.\n",
    "if y_train.nunique() < 2:\n",
    "\traise ValueError(\"y_train contains only one class. Please check your data split or threshold for 'high_value'.\")\n",
    "else:\n",
    "\tmodel = LogisticRegression(max_iter=1000)\n",
    "\tmodel.fit(X_train, y_train)"
   ]
  },
  {
   "cell_type": "markdown",
   "id": "86a8162f-91b1-44a1-a840-6c209aa313fb",
   "metadata": {},
   "source": [
    " Evaluate Performance"
   ]
  },
  {
   "cell_type": "code",
   "execution_count": null,
   "id": "e3e8a89d-01ea-4686-81a3-1e162e455778",
   "metadata": {},
   "outputs": [],
   "source": [
    "y_pred = model.predict(X_test)\n",
    "\n",
    "print(\"Confusion Matrix:\")\n",
    "print(confusion_matrix(y_test, y_pred))\n",
    "\n",
    "print(\"\\nClassification Report:\")\n",
    "print(classification_report(y_test, y_pred))\n",
    "\n",
    "# ROC Curve\n",
    "RocCurveDisplay.from_estimator(model, X_test, y_test)\n",
    "plt.show()"
   ]
  },
  {
   "cell_type": "markdown",
   "id": "94d9d556-a9a9-4b22-bff9-5759351814b9",
   "metadata": {},
   "source": [
    " Print coefficients to see which values contribute to high/low rating"
   ]
  },
  {
   "cell_type": "code",
   "execution_count": null,
   "id": "a43a8a3a-1e42-445c-9b38-9a099115fe28",
   "metadata": {},
   "outputs": [],
   "source": [
    "coeffs = pd.Series(model.coef_[0], index=X.columns)\n",
    "print(coeffs.sort_values())\n",
    "#!/usr/bin/env python3  "
   ]
  },
  {
   "cell_type": "markdown",
   "id": "6b5272eb-8c6c-4d5d-82a2-59ffc4f09721",
   "metadata": {},
   "source": [
    " Check class balance and cross-validate"
   ]
  },
  {
   "cell_type": "code",
   "execution_count": null,
   "id": "6cdc91d4-0716-4a6f-abb7-58a7e7f81261",
   "metadata": {},
   "outputs": [],
   "source": [
    "df['is_sedan'].value_counts()\n",
    "df.groupby('is_sedan')['high_value'].mean()"
   ]
  }
 ],
 "metadata": {
  "language_info": {
   "codemirror_mode": {
    "name": "ipython",
    "version": 3
   },
   "file_extension": ".py",
   "mimetype": "text/x-python",
   "name": "python",
   "nbconvert_exporter": "python",
   "pygments_lexer": "ipython3",
   "version": 3
  }
 },
 "nbformat": 4,
 "nbformat_minor": 2
}
